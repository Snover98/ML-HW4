{
 "cells": [
  {
   "cell_type": "code",
   "execution_count": 4,
   "metadata": {},
   "outputs": [],
   "source": [
    "import pandas as pd\n",
    "import numpy as np\n",
    "import matplotlib.pyplot as plt\n",
    "import sklearn as sk\n",
    "from standartisation import DFScaler\n",
    "from wrappers import *\n",
    "from model_selection import target_features_split\n",
    "from sklearn.svm import SVC"
   ]
  },
  {
   "cell_type": "code",
   "execution_count": 5,
   "metadata": {},
   "outputs": [],
   "source": [
    "data = pd.read_csv(\"full_train.csv\")\n",
    "test = pd.read_csv(\"full_test.csv\")\n",
    "\n",
    "test_X , test_y = target_features_split(test,\"Vote\")\n",
    "\n",
    "features = test.columns.values.tolist()\n",
    "selected_features = [\"Avg_environmental_importance\", \"Avg_government_satisfaction\", \"Avg_education_importance\",\n",
    "                         \"Avg_monthly_expense_on_pets_or_plants\", \"Avg_Residancy_Altitude\", \"Yearly_ExpensesK\",\n",
    "                         \"Weighted_education_rank\", \"Number_of_valued_Kneset_members\"]\n",
    "features = [feat for feat in features if feat.startswith(\"Issue\")] + selected_features + [\"Vote\"]\n",
    "\n",
    "data = data[features]\n",
    "test = test[features]\n",
    "\n",
    "scaler = DFScaler(data, selected_features)"
   ]
  },
  {
   "cell_type": "code",
   "execution_count": null,
   "metadata": {},
   "outputs": [
    {
     "name": "stdout",
     "output_type": "stream",
     "text": [
      "[LibSVM]"
     ]
    }
   ],
   "source": [
    "X , Y = target_features_split(data,\"Vote\")\n",
    "hist_true = Y.value_counts().astype(float) / len(Y.index)\n",
    "model =ElectionsResultsWrapper(SVC(C=7.70625,class_weight='balanced',degree=5,gamma = 'auto',kernel='poly',probability=True,tol = 0.33618, verbose=2))\n",
    "model.fit(X,Y)"
   ]
  },
  {
   "cell_type": "code",
   "execution_count": null,
   "metadata": {},
   "outputs": [],
   "source": [
    "changed_data = data.copy()\n",
    "feature = \"Number_of_valued_Kneset_members\"\n",
    "values = np.random.randint(0, high=2, size=len(Y))\n",
    "changed_data[feature] = values.astype(np.float)\n",
    "\n",
    "scaled_changed_data = scaler.scale(changed_data.copy())\n",
    "scaled_changed_X,_ = target_features_split(scaled_changed_data,\"Vote\")\n",
    "\n",
    "hist = model.predict(scaled_changed_X)\n",
    "print(hist-hist_true)"
   ]
  },
  {
   "cell_type": "code",
   "execution_count": null,
   "metadata": {},
   "outputs": [],
   "source": []
  }
 ],
 "metadata": {
  "kernelspec": {
   "display_name": "Python 3",
   "language": "python",
   "name": "python3"
  },
  "language_info": {
   "codemirror_mode": {
    "name": "ipython",
    "version": 3
   },
   "file_extension": ".py",
   "mimetype": "text/x-python",
   "name": "python",
   "nbconvert_exporter": "python",
   "pygments_lexer": "ipython3",
   "version": "3.6.7"
  }
 },
 "nbformat": 4,
 "nbformat_minor": 2
}
