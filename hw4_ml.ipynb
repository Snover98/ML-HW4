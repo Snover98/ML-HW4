{
 "cells": [
  {
   "cell_type": "code",
   "execution_count": 13,
   "metadata": {},
   "outputs": [],
   "source": [
    "import pandas as pd\n",
    "import numpy as np\n",
    "import matplotlib.pyplot as plt\n",
    "import sklearn as sk\n",
    "from standartisation import DFScaler\n",
    "from wrappers import *\n",
    "from model_selection import target_features_split\n",
    "from sklearn.svm import SVC"
   ]
  },
  {
   "cell_type": "code",
   "execution_count": 5,
   "metadata": {},
   "outputs": [],
   "source": [
    "data = pd.read_csv(\"full_train.csv\")\n",
    "test = pd.read_csv(\"full_test.csv\")\n",
    "\n",
    "test_X , _ = target_features_split(test,\"Vote\")\n",
    "\n",
    "features = test.columns.values.tolist()\n",
    "selected_features = [\"Avg_environmental_importance\", \"Avg_government_satisfaction\", \"Avg_education_importance\",\n",
    "                         \"Avg_monthly_expense_on_pets_or_plants\", \"Avg_Residancy_Altitude\", \"Yearly_ExpensesK\",\n",
    "                         \"Weighted_education_rank\", \"Number_of_valued_Kneset_members\"]\n",
    "features = [feat for feat in features if feat.startswith(\"Issue\")] + selected_features\n",
    "\n",
    "scaler = DFScaler(data, selected_features)"
   ]
  },
  {
   "cell_type": "code",
   "execution_count": 9,
   "metadata": {},
   "outputs": [],
   "source": [
    "X , Y = target_features_split(data,\"Vote\")\n",
    "hist_true = Y.value_counts().astype(float) / len(Y.index)\n",
    "changed_data = data.copy()"
   ]
  },
  {
   "cell_type": "code",
   "execution_count": 10,
   "metadata": {},
   "outputs": [],
   "source": [
    "feature = \"Number_of_valued_Kneset_members\"\n",
    "intervals = range(0,2)\n",
    "values = np.random.randint(0, high=2, size=len(Y))\n",
    "changed_data[feature] = values "
   ]
  },
  {
   "cell_type": "code",
   "execution_count": null,
   "metadata": {},
   "outputs": [
    {
     "name": "stderr",
     "output_type": "stream",
     "text": [
      "C:\\Users\\בן\\Documents\\GitHub\\ML-HW4\\standartisation.py:13: DataConversionWarning: Data with input dtype int32, float64 were all converted to float64 by StandardScaler.\n",
      "  df[self.columns] = self.scaler.transform(df[self.columns])\n"
     ]
    }
   ],
   "source": [
    "scaled_changed_data = scaler.scale(changed_data.copy())\n",
    "scaled_changed_X,_ = target_features_split(scaled_changed_data,\"Vote\")\n",
    "model =ElectionsResultsWrapper(SVC(C=7.70625,class_weight='balanced',degree=5,gamma = 'auto',kernel='poly',probability=True,tol = 0.33618))\n",
    "model.fit(scaled_changed_X,Y)\n",
    "hist = model.predict( test_X)\n",
    "print(np.abs(hist-hist_true))"
   ]
  }
 ],
 "metadata": {
  "kernelspec": {
   "display_name": "Python 3",
   "language": "python",
   "name": "python3"
  },
  "language_info": {
   "codemirror_mode": {
    "name": "ipython",
    "version": 3
   },
   "file_extension": ".py",
   "mimetype": "text/x-python",
   "name": "python",
   "nbconvert_exporter": "python",
   "pygments_lexer": "ipython3",
   "version": "3.6.7"
  }
 },
 "nbformat": 4,
 "nbformat_minor": 2
}
