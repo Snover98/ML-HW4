{
 "cells": [
  {
   "cell_type": "code",
   "execution_count": null,
   "metadata": {},
   "outputs": [],
   "source": [
    "import pandas as pd\n",
    "import numpy as np\n",
    "import matplotlib.pyplot as plt\n",
    "import sklearn as sk\n",
    "from standartisation import DFScaler\n",
    "from wrappers import *"
   ]
  },
  {
   "cell_type": "code",
   "execution_count": null,
   "metadata": {},
   "outputs": [],
   "source": [
    "data = pd.read_csv(\"train_full.csv\")\n",
    "features: List[str] = train.columns.to_numpy().tolist()\n",
    "selected_features = [\"Avg_environmental_importance\", \"Avg_government_satisfaction\", \"Avg_education_importance\",\n",
    "                         \"Avg_monthly_expense_on_pets_or_plants\", \"Avg_Residancy_Altitude\", \"Yearly_ExpensesK\",\n",
    "                         \"Weighted_education_rank\", \"Number_of_valued_Kneset_members\"]\n",
    "features = [feat for feat in features if feat.startswith(\"Issue\")] + selected_features\n",
    "\n",
    "scaler = DFScaler(data, selected_features)"
   ]
  },
  {
   "cell_type": "code",
   "execution_count": null,
   "metadata": {},
   "outputs": [],
   "source": [
    "feature = \"Number_of_valued_Kneset_members\""
   ]
  },
  {
   "cell_type": "code",
   "execution_count": null,
   "metadata": {},
   "outputs": [],
   "source": [
    "intervals = range(1,121)"
   ]
  },
  {
   "cell_type": "code",
   "execution_count": null,
   "metadata": {},
   "outputs": [],
   "source": [
    "changed_data = data.copy()\n",
    "data = scaler.scale(data)"
   ]
  },
  {
   "cell_type": "code",
   "execution_count": null,
   "metadata": {},
   "outputs": [],
   "source": []
  }
 ],
 "metadata": {
  "kernelspec": {
   "display_name": "Python 3",
   "language": "python",
   "name": "python3"
  },
  "language_info": {
   "codemirror_mode": {
    "name": "ipython",
    "version": 3
   },
   "file_extension": ".py",
   "mimetype": "text/x-python",
   "name": "python",
   "nbconvert_exporter": "python",
   "pygments_lexer": "ipython3",
   "version": "3.6.7"
  }
 },
 "nbformat": 4,
 "nbformat_minor": 2
}
